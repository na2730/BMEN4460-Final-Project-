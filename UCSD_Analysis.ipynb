{
 "cells": [
  {
   "cell_type": "markdown",
   "metadata": {},
   "source": [
    "### Analysing the UCSD Data set https://github.com/UCSD-AI4H/COVID-CT"
   ]
  },
  {
   "cell_type": "code",
   "execution_count": 7,
   "metadata": {},
   "outputs": [],
   "source": [
    "#Imports packages\n",
    "import numpy as np \n",
    "import matplotlib.pyplot as plt \n",
    "import pandas as pd\n",
    "pd.options.mode.chained_assignment = None "
   ]
  },
  {
   "cell_type": "code",
   "execution_count": 13,
   "metadata": {},
   "outputs": [
    {
     "name": "stdout",
     "output_type": "stream",
     "text": [
      "0      ['Figure, 1., Chest, radiographs, of, patient,...\n",
      "1      ['Figure, 1., Chest, radiographs, of, patient,...\n",
      "2      ['Figure, 1., Chest, radiographs, of, patient,...\n",
      "3      ['Figure, 1., A, 50-year-old, man, with, 2019,...\n",
      "4      ['Figure, 1., A, 50-year-old, man, with, 2019,...\n",
      "                             ...                        \n",
      "344    [Computed, tomography, of, the, lungs, reveale...\n",
      "345    [Computed, tomography, of, the, lungs, reveale...\n",
      "346    [Computed, tomography, of, the, lungs, reveale...\n",
      "347    [Computed, tomography, of, the, lungs, reveale...\n",
      "348             [NTM,, nontuberculous, mycobacterium., ]\n",
      "Name: Caption, Length: 349, dtype: object\n",
      "\n",
      " Consolidation 98 Ground Glass Opacity 219 Effusion 27\n"
     ]
    }
   ],
   "source": [
    "#Import the Excel File Information into a pandas dataset \n",
    "ucsd = pd.read_excel('COVID-CT-MetaInfo.xlsx',sheet_name = 'positive_captions')\n",
    "ucsd.columns = ['Image','Patient','Source','Caption']\n",
    "ucsd.insert(4,'Label','Nan')\n",
    "caption = ucsd['Caption']\n",
    "  \n",
    "# Convert labels into split lists to make it easier to iterate \n",
    "for i in range(len(caption)):\n",
    "    caption[i] = str(caption[i])\n",
    "    caption[i] = caption[i].strip(\"[]\").split(' ')\n",
    "\n",
    "print(caption)\n",
    "\n",
    "consolidation = 0\n",
    "ground_glass = 0\n",
    "effusion = 0 \n",
    "\n",
    "for i in range(len(caption)):\n",
    "    for j in range(len(caption[i])):\n",
    "        if caption[i][j] == 'consolidation' or caption[i][j] == 'consolidations' or caption[i][j] == 'consolidation,' or caption[i][j] == '(consolidation)':\n",
    "            consolidation +=1\n",
    "            ucsd['Label'][i] = 'consolidation'\n",
    "        if caption[i][j] =='ground-glass' or caption[i][j] == 'glass' or caption[i][j] == 'glass,' or caption[i][j] == '\"ground-glass\"': \n",
    "            ground_glass +=1\n",
    "            ucsd['Label'][i] = 'ground glass'\n",
    "\n",
    "        if caption[i][j] == 'effusion' or  caption[i][j] == \"effusion.'\" or caption[i][j] == 'effusion.':\n",
    "            effusion+=1\n",
    "            ucsd['Label'][i] = 'effusion'\n",
    "print('\\n','Consolidation',consolidation,'Ground Glass Opacity',ground_glass, 'Effusion',effusion)"
   ]
  },
  {
   "cell_type": "code",
   "execution_count": 14,
   "metadata": {},
   "outputs": [
    {
     "data": {
      "text/html": [
       "<div>\n",
       "<style scoped>\n",
       "    .dataframe tbody tr th:only-of-type {\n",
       "        vertical-align: middle;\n",
       "    }\n",
       "\n",
       "    .dataframe tbody tr th {\n",
       "        vertical-align: top;\n",
       "    }\n",
       "\n",
       "    .dataframe thead th {\n",
       "        text-align: right;\n",
       "    }\n",
       "</style>\n",
       "<table border=\"1\" class=\"dataframe\">\n",
       "  <thead>\n",
       "    <tr style=\"text-align: right;\">\n",
       "      <th></th>\n",
       "      <th>Consolidation</th>\n",
       "      <th>Ground Glass</th>\n",
       "      <th>Effusion</th>\n",
       "    </tr>\n",
       "  </thead>\n",
       "  <tbody>\n",
       "    <tr>\n",
       "      <th>0</th>\n",
       "      <td>110</td>\n",
       "      <td>239</td>\n",
       "      <td>27</td>\n",
       "    </tr>\n",
       "  </tbody>\n",
       "</table>\n",
       "</div>"
      ],
      "text/plain": [
       "   Consolidation  Ground Glass  Effusion\n",
       "0            110           239        27"
      ]
     },
     "execution_count": 14,
     "metadata": {},
     "output_type": "execute_result"
    }
   ],
   "source": [
    "# after checking sheet saw that \\n\",\n",
    "consolidaiton = 110\n",
    "ground_glass = 239 \n",
    "effusion = 27\n",
    "\n",
    "# data frame with results \n",
    "ucsd_results = pd.DataFrame({'Consolidation':[110], 'Ground Glass':[239],'Effusion':[27]})\n",
    "ucsd_results"
   ]
  },
  {
   "cell_type": "code",
   "execution_count": 15,
   "metadata": {},
   "outputs": [
    {
     "data": {
      "text/html": [
       "<div>\n",
       "<style scoped>\n",
       "    .dataframe tbody tr th:only-of-type {\n",
       "        vertical-align: middle;\n",
       "    }\n",
       "\n",
       "    .dataframe tbody tr th {\n",
       "        vertical-align: top;\n",
       "    }\n",
       "\n",
       "    .dataframe thead th {\n",
       "        text-align: right;\n",
       "    }\n",
       "</style>\n",
       "<table border=\"1\" class=\"dataframe\">\n",
       "  <thead>\n",
       "    <tr style=\"text-align: right;\">\n",
       "      <th></th>\n",
       "      <th>Image</th>\n",
       "      <th>Patient</th>\n",
       "      <th>Source</th>\n",
       "      <th>Caption</th>\n",
       "      <th>Label</th>\n",
       "    </tr>\n",
       "  </thead>\n",
       "  <tbody>\n",
       "    <tr>\n",
       "      <th>0</th>\n",
       "      <td>2020.01.24.919183-p27-133.png</td>\n",
       "      <td>Patient 1</td>\n",
       "      <td>NaN</td>\n",
       "      <td>['Figure, 1., Chest, radiographs, of, patient,...</td>\n",
       "      <td>consolidation</td>\n",
       "    </tr>\n",
       "    <tr>\n",
       "      <th>1</th>\n",
       "      <td>2020.01.24.919183-p27-134.png</td>\n",
       "      <td>Patient 1</td>\n",
       "      <td>NaN</td>\n",
       "      <td>['Figure, 1., Chest, radiographs, of, patient,...</td>\n",
       "      <td>consolidation</td>\n",
       "    </tr>\n",
       "    <tr>\n",
       "      <th>2</th>\n",
       "      <td>2020.01.24.919183-p27-135.png</td>\n",
       "      <td>Patient 1</td>\n",
       "      <td>NaN</td>\n",
       "      <td>['Figure, 1., Chest, radiographs, of, patient,...</td>\n",
       "      <td>consolidation</td>\n",
       "    </tr>\n",
       "    <tr>\n",
       "      <th>3</th>\n",
       "      <td>2020.02.10.20021584-p6-52%0.png</td>\n",
       "      <td>Patient 2</td>\n",
       "      <td>NaN</td>\n",
       "      <td>['Figure, 1., A, 50-year-old, man, with, 2019,...</td>\n",
       "      <td>ground glass</td>\n",
       "    </tr>\n",
       "    <tr>\n",
       "      <th>4</th>\n",
       "      <td>2020.02.10.20021584-p6-52%1.png</td>\n",
       "      <td>Patient 2</td>\n",
       "      <td>NaN</td>\n",
       "      <td>['Figure, 1., A, 50-year-old, man, with, 2019,...</td>\n",
       "      <td>ground glass</td>\n",
       "    </tr>\n",
       "    <tr>\n",
       "      <th>...</th>\n",
       "      <td>...</td>\n",
       "      <td>...</td>\n",
       "      <td>...</td>\n",
       "      <td>...</td>\n",
       "      <td>...</td>\n",
       "    </tr>\n",
       "    <tr>\n",
       "      <th>344</th>\n",
       "      <td>Talaromyces-marneffei-infection-relapse-presen...</td>\n",
       "      <td>Patient 216</td>\n",
       "      <td>10.1016/j.ijid.2020.02.037</td>\n",
       "      <td>[Computed, tomography, of, the, lungs, reveale...</td>\n",
       "      <td>Nan</td>\n",
       "    </tr>\n",
       "    <tr>\n",
       "      <th>345</th>\n",
       "      <td>Talaromyces-marneffei-infection-relapse-presen...</td>\n",
       "      <td>Patient 216</td>\n",
       "      <td>10.1016/j.ijid.2020.02.037</td>\n",
       "      <td>[Computed, tomography, of, the, lungs, reveale...</td>\n",
       "      <td>Nan</td>\n",
       "    </tr>\n",
       "    <tr>\n",
       "      <th>346</th>\n",
       "      <td>Talaromyces-marneffei-infection-relapse-presen...</td>\n",
       "      <td>Patient 216</td>\n",
       "      <td>10.1016/j.ijid.2020.02.037</td>\n",
       "      <td>[Computed, tomography, of, the, lungs, reveale...</td>\n",
       "      <td>Nan</td>\n",
       "    </tr>\n",
       "    <tr>\n",
       "      <th>347</th>\n",
       "      <td>Talaromyces-marneffei-infection-relapse-presen...</td>\n",
       "      <td>Patient 216</td>\n",
       "      <td>10.1016/j.ijid.2020.02.037</td>\n",
       "      <td>[Computed, tomography, of, the, lungs, reveale...</td>\n",
       "      <td>Nan</td>\n",
       "    </tr>\n",
       "    <tr>\n",
       "      <th>348</th>\n",
       "      <td>NaN</td>\n",
       "      <td>NaN</td>\n",
       "      <td>NaN</td>\n",
       "      <td>[NTM,, nontuberculous, mycobacterium., ]</td>\n",
       "      <td>Nan</td>\n",
       "    </tr>\n",
       "  </tbody>\n",
       "</table>\n",
       "<p>349 rows × 5 columns</p>\n",
       "</div>"
      ],
      "text/plain": [
       "                                                 Image      Patient  \\\n",
       "0                        2020.01.24.919183-p27-133.png    Patient 1   \n",
       "1                        2020.01.24.919183-p27-134.png    Patient 1   \n",
       "2                        2020.01.24.919183-p27-135.png    Patient 1   \n",
       "3                      2020.02.10.20021584-p6-52%0.png    Patient 2   \n",
       "4                      2020.02.10.20021584-p6-52%1.png    Patient 2   \n",
       "..                                                 ...          ...   \n",
       "344  Talaromyces-marneffei-infection-relapse-presen...  Patient 216   \n",
       "345  Talaromyces-marneffei-infection-relapse-presen...  Patient 216   \n",
       "346  Talaromyces-marneffei-infection-relapse-presen...  Patient 216   \n",
       "347  Talaromyces-marneffei-infection-relapse-presen...  Patient 216   \n",
       "348                                                NaN          NaN   \n",
       "\n",
       "                         Source  \\\n",
       "0                           NaN   \n",
       "1                           NaN   \n",
       "2                           NaN   \n",
       "3                           NaN   \n",
       "4                           NaN   \n",
       "..                          ...   \n",
       "344  10.1016/j.ijid.2020.02.037   \n",
       "345  10.1016/j.ijid.2020.02.037   \n",
       "346  10.1016/j.ijid.2020.02.037   \n",
       "347  10.1016/j.ijid.2020.02.037   \n",
       "348                         NaN   \n",
       "\n",
       "                                               Caption          Label  \n",
       "0    ['Figure, 1., Chest, radiographs, of, patient,...  consolidation  \n",
       "1    ['Figure, 1., Chest, radiographs, of, patient,...  consolidation  \n",
       "2    ['Figure, 1., Chest, radiographs, of, patient,...  consolidation  \n",
       "3    ['Figure, 1., A, 50-year-old, man, with, 2019,...   ground glass  \n",
       "4    ['Figure, 1., A, 50-year-old, man, with, 2019,...   ground glass  \n",
       "..                                                 ...            ...  \n",
       "344  [Computed, tomography, of, the, lungs, reveale...            Nan  \n",
       "345  [Computed, tomography, of, the, lungs, reveale...            Nan  \n",
       "346  [Computed, tomography, of, the, lungs, reveale...            Nan  \n",
       "347  [Computed, tomography, of, the, lungs, reveale...            Nan  \n",
       "348           [NTM,, nontuberculous, mycobacterium., ]            Nan  \n",
       "\n",
       "[349 rows x 5 columns]"
      ]
     },
     "execution_count": 15,
     "metadata": {},
     "output_type": "execute_result"
    }
   ],
   "source": [
    "ucsd"
   ]
  },
  {
   "cell_type": "code",
   "execution_count": 17,
   "metadata": {},
   "outputs": [
    {
     "data": {
      "image/png": "[encoded data removed]",
      "text/plain": [
       "<Figure size 720x720 with 1 Axes>"
      ]
     },
     "metadata": {},
     "output_type": "display_data"
    }
   ],
   "source": [
    "ax = ucsd['Label'].value_counts(dropna=False).plot.pie(y='Finding', legend = True, autopct='%2.0f%%', figsize = (10,10), title = 'Finding Distribution ~ Aproximate Values')"
   ]
  },
  {
   "cell_type": "code",
   "execution_count": 20,
   "metadata": {},
   "outputs": [
    {
     "data": {
      "image/png": "[encoded data removed]",
      "text/plain": [
       "<Figure size 432x288 with 1 Axes>"
      ]
     },
     "metadata": {
      "needs_background": "light"
     },
     "output_type": "display_data"
    },
    {
     "name": "stdout",
     "output_type": "stream",
     "text": [
      "[396, 349]\n"
     ]
    }
   ],
   "source": [
    "COVID = 349 \n",
    "NON_COVID = 396 # Looked at noncovid metadata on github \n",
    "\n",
    "label = ['Non-COVID','COVID']\n",
    "val = [NON_COVID,COVID]\n",
    "fig1 = plt.figure()\n",
    "plt.xlabel = 'Result'\n",
    "plt.ylabel = 'Number of Images with that Result'\n",
    "plt.bar(label,val)\n",
    "plt.show()\n",
    "print(val)"
   ]
  },
  {
   "cell_type": "code",
   "execution_count": null,
   "metadata": {},
   "outputs": [],
   "source": []
  }
 ],
 "metadata": {
  "kernelspec": {
   "display_name": "Python 3",
   "language": "python",
   "name": "python3"
  },
  "language_info": {
   "codemirror_mode": {
    "name": "ipython",
    "version": 3
   },
   "file_extension": ".py",
   "mimetype": "text/x-python",
   "name": "python",
   "nbconvert_exporter": "python",
   "pygments_lexer": "ipython3",
   "version": "3.7.6"
  }
 },
 "nbformat": 4,
 "nbformat_minor": 4
}
